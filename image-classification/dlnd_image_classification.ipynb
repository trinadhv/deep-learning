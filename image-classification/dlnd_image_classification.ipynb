{
 "cells": [
  {
   "cell_type": "markdown",
   "metadata": {
    "collapsed": true,
    "deletable": true,
    "editable": true
   },
   "source": [
    "# Image Classification\n",
    "In this project, you'll classify images from the [CIFAR-10 dataset](https://www.cs.toronto.edu/~kriz/cifar.html).  The dataset consists of airplanes, dogs, cats, and other objects. You'll preprocess the images, then train a convolutional neural network on all the samples. The images need to be normalized and the labels need to be one-hot encoded.  You'll get to apply what you learned and build a convolutional, max pooling, dropout, and fully connected layers.  At the end, you'll get to see your neural network's predictions on the sample images.\n",
    "## Get the Data\n",
    "Run the following cell to download the [CIFAR-10 dataset for python](https://www.cs.toronto.edu/~kriz/cifar-10-python.tar.gz)."
   ]
  },
  {
   "cell_type": "code",
   "execution_count": 3,
   "metadata": {
    "collapsed": false,
    "deletable": true,
    "editable": true
   },
   "outputs": [
    {
     "name": "stdout",
     "output_type": "stream",
     "text": [
      "All files found!\n"
     ]
    }
   ],
   "source": [
    "\"\"\"\n",
    "DON'T MODIFY ANYTHING IN THIS CELL THAT IS BELOW THIS LINE\n",
    "\"\"\"\n",
    "from urllib.request import urlretrieve\n",
    "from os.path import isfile, isdir\n",
    "from tqdm import tqdm\n",
    "import problem_unittests as tests\n",
    "import tarfile\n",
    "\n",
    "cifar10_dataset_folder_path = 'cifar-10-batches-py'\n",
    "\n",
    "# Use Floyd's cifar-10 dataset if present\n",
    "floyd_cifar10_location = '/input/cifar-10/python.tar.gz'\n",
    "if isfile(floyd_cifar10_location):\n",
    "    tar_gz_path = floyd_cifar10_location\n",
    "else:\n",
    "    tar_gz_path = 'cifar-10-python.tar.gz'\n",
    "\n",
    "class DLProgress(tqdm):\n",
    "    last_block = 0\n",
    "\n",
    "    def hook(self, block_num=1, block_size=1, total_size=None):\n",
    "        self.total = total_size\n",
    "        self.update((block_num - self.last_block) * block_size)\n",
    "        self.last_block = block_num\n",
    "\n",
    "if not isfile(tar_gz_path):\n",
    "    with DLProgress(unit='B', unit_scale=True, miniters=1, desc='CIFAR-10 Dataset') as pbar:\n",
    "        urlretrieve(\n",
    "            'https://www.cs.toronto.edu/~kriz/cifar-10-python.tar.gz',\n",
    "            tar_gz_path,\n",
    "            pbar.hook)\n",
    "\n",
    "if not isdir(cifar10_dataset_folder_path):\n",
    "    with tarfile.open(tar_gz_path) as tar:\n",
    "        tar.extractall()\n",
    "        tar.close()\n",
    "\n",
    "\n",
    "tests.test_folder_path(cifar10_dataset_folder_path)"
   ]
  },
  {
   "cell_type": "markdown",
   "metadata": {
    "deletable": true,
    "editable": true
   },
   "source": [
    "## Explore the Data\n",
    "The dataset is broken into batches to prevent your machine from running out of memory.  The CIFAR-10 dataset consists of 5 batches, named `data_batch_1`, `data_batch_2`, etc.. Each batch contains the labels and images that are one of the following:\n",
    "* airplane\n",
    "* automobile\n",
    "* bird\n",
    "* cat\n",
    "* deer\n",
    "* dog\n",
    "* frog\n",
    "* horse\n",
    "* ship\n",
    "* truck\n",
    "\n",
    "Understanding a dataset is part of making predictions on the data.  Play around with the code cell below by changing the `batch_id` and `sample_id`. The `batch_id` is the id for a batch (1-5). The `sample_id` is the id for a image and label pair in the batch.\n",
    "\n",
    "Ask yourself \"What are all possible labels?\", \"What is the range of values for the image data?\", \"Are the labels in order or random?\".  Answers to questions like these will help you preprocess the data and end up with better predictions."
   ]
  },
  {
   "cell_type": "code",
   "execution_count": 4,
   "metadata": {
    "collapsed": false,
    "deletable": true,
    "editable": true
   },
   "outputs": [
    {
     "name": "stdout",
     "output_type": "stream",
     "text": [
      "\n",
      "Stats of batch 1:\n",
      "Samples: 10000\n",
      "Label Counts: {0: 1005, 1: 974, 2: 1032, 3: 1016, 4: 999, 5: 937, 6: 1030, 7: 1001, 8: 1025, 9: 981}\n",
      "First 20 Labels: [6, 9, 9, 4, 1, 1, 2, 7, 8, 3, 4, 7, 7, 2, 9, 9, 9, 3, 2, 6]\n",
      "\n",
      "Example of Image 5:\n",
      "Image - Min Value: 0 Max Value: 252\n",
      "Image - Shape: (32, 32, 3)\n",
      "Label - Label Id: 1 Name: automobile\n"
     ]
    },
    {
     "data": {
      "image/png": "[encoded data removed]",
      "text/plain": [
       "<matplotlib.figure.Figure at 0x27d46d09898>"
      ]
     },
     "metadata": {
      "image/png": {
       "height": 250,
       "width": 253
      }
     },
     "output_type": "display_data"
    }
   ],
   "source": [
    "%matplotlib inline\n",
    "%config InlineBackend.figure_format = 'retina'\n",
    "\n",
    "import helper\n",
    "import numpy as np\n",
    "\n",
    "# Explore the dataset\n",
    "batch_id = 1\n",
    "sample_id = 5\n",
    "helper.display_stats(cifar10_dataset_folder_path, batch_id, sample_id)"
   ]
  },
  {
   "cell_type": "markdown",
   "metadata": {
    "deletable": true,
    "editable": true
   },
   "source": [
    "## Implement Preprocess Functions\n",
    "### Normalize\n",
    "In the cell below, implement the `normalize` function to take in image data, `x`, and return it as a normalized Numpy array. The values should be in the range of 0 to 1, inclusive.  The return object should be the same shape as `x`."
   ]
  },
  {
   "cell_type": "code",
   "execution_count": 6,
   "metadata": {
    "collapsed": false,
    "deletable": true,
    "editable": true
   },
   "outputs": [
    {
     "name": "stdout",
     "output_type": "stream",
     "text": [
      "Tests Passed\n"
     ]
    }
   ],
   "source": [
    "def normalize(x):\n",
    "    \"\"\"\n",
    "    Normalize a list of sample image data in the range of 0 to 1\n",
    "    : x: List of image data.  The image shape is (32, 32, 3)\n",
    "    : return: Numpy array of normalize data\n",
    "    \"\"\"\n",
    "    # TODO: Implement Function\n",
    "    min_value=np.min(x)\n",
    "    max_value=np.max(x)\n",
    "    x_normal=(x-min_value)/(max_value-min_value)\n",
    "    return x_normal\n",
    "\n",
    "\n",
    "\"\"\"\n",
    "DON'T MODIFY ANYTHING IN THIS CELL THAT IS BELOW THIS LINE\n",
    "\"\"\"\n",
    "tests.test_normalize(normalize)"
   ]
  },
  {
   "cell_type": "markdown",
   "metadata": {
    "deletable": true,
    "editable": true
   },
   "source": [
    "### One-hot encode\n",
    "Just like the previous code cell, you'll be implementing a function for preprocessing.  This time, you'll implement the `one_hot_encode` function. The input, `x`, are a list of labels.  Implement the function to return the list of labels as One-Hot encoded Numpy array.  The possible values for labels are 0 to 9. The one-hot encoding function should return the same encoding for each value between each call to `one_hot_encode`.  Make sure to save the map of encodings outside the function.\n",
    "\n",
    "Hint: Don't reinvent the wheel."
   ]
  },
  {
   "cell_type": "code",
   "execution_count": 7,
   "metadata": {
    "collapsed": false,
    "deletable": true,
    "editable": true
   },
   "outputs": [
    {
     "name": "stdout",
     "output_type": "stream",
     "text": [
      "Tests Passed\n"
     ]
    }
   ],
   "source": [
    "def one_hot_encode(x):\n",
    "    \"\"\"\n",
    "    One hot encode a list of sample labels. Return a one-hot encoded vector for each label.\n",
    "    : x: List of sample Labels\n",
    "    : return: Numpy array of one-hot encoded labels\n",
    "    \"\"\"\n",
    "    # TODO: Implement Function\n",
    "    return np.eye(10)[x]\n",
    "\n",
    "\n",
    "\"\"\"\n",
    "DON'T MODIFY ANYTHING IN THIS CELL THAT IS BELOW THIS LINE\n",
    "\"\"\"\n",
    "tests.test_one_hot_encode(one_hot_encode)"
   ]
  },
  {
   "cell_type": "markdown",
   "metadata": {
    "deletable": true,
    "editable": true
   },
   "source": [
    "### Randomize Data\n",
    "As you saw from exploring the data above, the order of the samples are randomized.  It doesn't hurt to randomize it again, but you don't need to for this dataset."
   ]
  },
  {
   "cell_type": "markdown",
   "metadata": {
    "deletable": true,
    "editable": true
   },
   "source": [
    "## Preprocess all the data and save it\n",
    "Running the code cell below will preprocess all the CIFAR-10 data and save it to file. The code below also uses 10% of the training data for validation."
   ]
  },
  {
   "cell_type": "code",
   "execution_count": 8,
   "metadata": {
    "collapsed": false,
    "deletable": true,
    "editable": true
   },
   "outputs": [],
   "source": [
    "\"\"\"\n",
    "DON'T MODIFY ANYTHING IN THIS CELL\n",
    "\"\"\"\n",
    "# Preprocess Training, Validation, and Testing Data\n",
    "helper.preprocess_and_save_data(cifar10_dataset_folder_path, normalize, one_hot_encode)"
   ]
  },
  {
   "cell_type": "markdown",
   "metadata": {
    "deletable": true,
    "editable": true
   },
   "source": [
    "# Check Point\n",
    "This is your first checkpoint.  If you ever decide to come back to this notebook or have to restart the notebook, you can start from here.  The preprocessed data has been saved to disk."
   ]
  },
  {
   "cell_type": "code",
   "execution_count": 9,
   "metadata": {
    "collapsed": true,
    "deletable": true,
    "editable": true
   },
   "outputs": [],
   "source": [
    "\"\"\"\n",
    "DON'T MODIFY ANYTHING IN THIS CELL\n",
    "\"\"\"\n",
    "import pickle\n",
    "import problem_unittests as tests\n",
    "import helper\n",
    "\n",
    "# Load the Preprocessed Validation data\n",
    "valid_features, valid_labels = pickle.load(open('preprocess_validation.p', mode='rb'))"
   ]
  },
  {
   "cell_type": "markdown",
   "metadata": {
    "deletable": true,
    "editable": true
   },
   "source": [
    "## Build the network\n",
    "For the neural network, you'll build each layer into a function.  Most of the code you've seen has been outside of functions. To test your code more thoroughly, we require that you put each layer in a function.  This allows us to give you better feedback and test for simple mistakes using our unittests before you submit your project.\n",
    "\n",
    ">**Note:** If you're finding it hard to dedicate enough time for this course each week, we've provided a small shortcut to this part of the project. In the next couple of problems, you'll have the option to use classes from the [TensorFlow Layers](https://www.tensorflow.org/api_docs/python/tf/layers) or [TensorFlow Layers (contrib)](https://www.tensorflow.org/api_guides/python/contrib.layers) packages to build each layer, except the layers you build in the \"Convolutional and Max Pooling Layer\" section.  TF Layers is similar to Keras's and TFLearn's abstraction to layers, so it's easy to pickup.\n",
    "\n",
    ">However, if you would like to get the most out of this course, try to solve all the problems _without_ using anything from the TF Layers packages. You **can** still use classes from other packages that happen to have the same name as ones you find in TF Layers! For example, instead of using the TF Layers version of the `conv2d` class, [tf.layers.conv2d](https://www.tensorflow.org/api_docs/python/tf/layers/conv2d), you would want to use the TF Neural Network version of `conv2d`, [tf.nn.conv2d](https://www.tensorflow.org/api_docs/python/tf/nn/conv2d). \n",
    "\n",
    "Let's begin!\n",
    "\n",
    "### Input\n",
    "The neural network needs to read the image data, one-hot encoded labels, and dropout keep probability. Implement the following functions\n",
    "* Implement `neural_net_image_input`\n",
    " * Return a [TF Placeholder](https://www.tensorflow.org/api_docs/python/tf/placeholder)\n",
    " * Set the shape using `image_shape` with batch size set to `None`.\n",
    " * Name the TensorFlow placeholder \"x\" using the TensorFlow `name` parameter in the [TF Placeholder](https://www.tensorflow.org/api_docs/python/tf/placeholder).\n",
    "* Implement `neural_net_label_input`\n",
    " * Return a [TF Placeholder](https://www.tensorflow.org/api_docs/python/tf/placeholder)\n",
    " * Set the shape using `n_classes` with batch size set to `None`.\n",
    " * Name the TensorFlow placeholder \"y\" using the TensorFlow `name` parameter in the [TF Placeholder](https://www.tensorflow.org/api_docs/python/tf/placeholder).\n",
    "* Implement `neural_net_keep_prob_input`\n",
    " * Return a [TF Placeholder](https://www.tensorflow.org/api_docs/python/tf/placeholder) for dropout keep probability.\n",
    " * Name the TensorFlow placeholder \"keep_prob\" using the TensorFlow `name` parameter in the [TF Placeholder](https://www.tensorflow.org/api_docs/python/tf/placeholder).\n",
    "\n",
    "These names will be used at the end of the project to load your saved model.\n",
    "\n",
    "Note: `None` for shapes in TensorFlow allow for a dynamic size."
   ]
  },
  {
   "cell_type": "code",
   "execution_count": 10,
   "metadata": {
    "collapsed": false,
    "deletable": true,
    "editable": true
   },
   "outputs": [
    {
     "name": "stdout",
     "output_type": "stream",
     "text": [
      "Image Input Tests Passed.\n",
      "Label Input Tests Passed.\n",
      "Keep Prob Tests Passed.\n"
     ]
    }
   ],
   "source": [
    "import tensorflow as tf\n",
    "\n",
    "def neural_net_image_input(image_shape):\n",
    "    \"\"\"\n",
    "    Return a Tensor for a batch of image input\n",
    "    : image_shape: Shape of the images\n",
    "    : return: Tensor for image input.\n",
    "    \"\"\"\n",
    "    # TODO: Implement Function\n",
    "    return tf.placeholder(dtype=tf.float32,shape=[None, image_shape[0], image_shape[1],image_shape[2]],name='x')\n",
    "\n",
    "\n",
    "def neural_net_label_input(n_classes):\n",
    "    \"\"\"\n",
    "    Return a Tensor for a batch of label input\n",
    "    : n_classes: Number of classes\n",
    "    : return: Tensor for label input.\n",
    "    \"\"\"\n",
    "    # TODO: Implement Function\n",
    "    return tf.placeholder(dtype=tf.float32,shape=[None, n_classes], name='y')\n",
    "\n",
    "\n",
    "def neural_net_keep_prob_input():\n",
    "    \"\"\"\n",
    "    Return a Tensor for keep probability\n",
    "    : return: Tensor for keep probability.\n",
    "    \"\"\"\n",
    "    # TODO: Implement Function\n",
    "    return tf.placeholder(dtype=tf.float32, name='keep_prob')\n",
    "\n",
    "\n",
    "\"\"\"\n",
    "DON'T MODIFY ANYTHING IN THIS CELL THAT IS BELOW THIS LINE\n",
    "\"\"\"\n",
    "tf.reset_default_graph()\n",
    "tests.test_nn_image_inputs(neural_net_image_input)\n",
    "tests.test_nn_label_inputs(neural_net_label_input)\n",
    "tests.test_nn_keep_prob_inputs(neural_net_keep_prob_input)"
   ]
  },
  {
   "cell_type": "markdown",
   "metadata": {
    "deletable": true,
    "editable": true
   },
   "source": [
    "### Convolution and Max Pooling Layer\n",
    "Convolution layers have a lot of success with images. For this code cell, you should implement the function `conv2d_maxpool` to apply convolution then max pooling:\n",
    "* Create the weight and bias using `conv_ksize`, `conv_num_outputs` and the shape of `x_tensor`.\n",
    "* Apply a convolution to `x_tensor` using weight and `conv_strides`.\n",
    " * We recommend you use same padding, but you're welcome to use any padding.\n",
    "* Add bias\n",
    "* Add a nonlinear activation to the convolution.\n",
    "* Apply Max Pooling using `pool_ksize` and `pool_strides`.\n",
    " * We recommend you use same padding, but you're welcome to use any padding.\n",
    "\n",
    "**Note:** You **can't** use [TensorFlow Layers](https://www.tensorflow.org/api_docs/python/tf/layers) or [TensorFlow Layers (contrib)](https://www.tensorflow.org/api_guides/python/contrib.layers) for **this** layer, but you can still use TensorFlow's [Neural Network](https://www.tensorflow.org/api_docs/python/tf/nn) package. You may still use the shortcut option for all the **other** layers."
   ]
  },
  {
   "cell_type": "code",
   "execution_count": 12,
   "metadata": {
    "collapsed": false,
    "deletable": true,
    "editable": true
   },
   "outputs": [
    {
     "name": "stdout",
     "output_type": "stream",
     "text": [
      "Tests Passed\n"
     ]
    }
   ],
   "source": [
    "def conv2d_maxpool(x_tensor, conv_num_outputs, conv_ksize, conv_strides, pool_ksize, pool_strides):\n",
    "    \"\"\"\n",
    "    Apply convolution then max pooling to x_tensor\n",
    "    :param x_tensor: TensorFlow Tensor\n",
    "    :param conv_num_outputs: Number of outputs for the convolutional layer\n",
    "    :param conv_ksize: kernal size 2-D Tuple for the convolutional layer\n",
    "    :param conv_strides: Stride 2-D Tuple for convolution\n",
    "    :param pool_ksize: kernal size 2-D Tuple for pool\n",
    "    :param pool_strides: Stride 2-D Tuple for pool\n",
    "    : return: A tensor that represents convolution and max pooling of x_tensor\n",
    "    \"\"\"\n",
    "    # TODO: Implement Function\n",
    "    current_depth= x_tensor.shape[3].value\n",
    "    \n",
    "    weights=tf.Variable(tf.truncated_normal([conv_ksize[0],conv_ksize[1], current_depth, conv_num_outputs],mean=0, stddev=0.1))\n",
    "    bias= tf.Variable(tf.zeros(conv_num_outputs))\n",
    "    \n",
    "    strides=[1,conv_strides[0],conv_strides[1],1]\n",
    "    \n",
    "    output=tf.nn.conv2d(x_tensor,weights,strides=strides, padding='SAME')\n",
    "    \n",
    "    output=tf.nn.bias_add(output,bias)\n",
    "    \n",
    "    output=tf.nn.relu(output)\n",
    "    \n",
    "    \n",
    "    ksize=[1,pool_ksize[0],pool_ksize[1],1]\n",
    "    \n",
    "    output= tf.nn.max_pool(output,ksize=ksize,strides=[1,pool_strides[0],pool_strides[1],1],padding='SAME')\n",
    "    \n",
    "    return output \n",
    "\n",
    "\n",
    "\"\"\"\n",
    "DON'T MODIFY ANYTHING IN THIS CELL THAT IS BELOW THIS LINE\n",
    "\"\"\"\n",
    "tests.test_con_pool(conv2d_maxpool)"
   ]
  },
  {
   "cell_type": "markdown",
   "metadata": {
    "deletable": true,
    "editable": true
   },
   "source": [
    "### Flatten Layer\n",
    "Implement the `flatten` function to change the dimension of `x_tensor` from a 4-D tensor to a 2-D tensor.  The output should be the shape (*Batch Size*, *Flattened Image Size*). Shortcut option: you can use classes from the [TensorFlow Layers](https://www.tensorflow.org/api_docs/python/tf/layers) or [TensorFlow Layers (contrib)](https://www.tensorflow.org/api_guides/python/contrib.layers) packages for this layer. For more of a challenge, only use other TensorFlow packages."
   ]
  },
  {
   "cell_type": "code",
   "execution_count": 14,
   "metadata": {
    "collapsed": false,
    "deletable": true,
    "editable": true
   },
   "outputs": [
    {
     "name": "stdout",
     "output_type": "stream",
     "text": [
      "Tests Passed\n"
     ]
    }
   ],
   "source": [
    "def flatten(x_tensor):\n",
    "    \"\"\"\n",
    "    Flatten x_tensor to (Batch Size, Flattened Image Size)\n",
    "    : x_tensor: A tensor of size (Batch Size, ...), where ... are the image dimensions.\n",
    "    : return: A tensor of size (Batch Size, Flattened Image Size).\n",
    "    \"\"\"\n",
    "    # TODO: Implement Function\n",
    "    x_flat=tf.contrib.layers.flatten(x_tensor)\n",
    "    return x_flat\n",
    "\n",
    "\n",
    "\"\"\"\n",
    "DON'T MODIFY ANYTHING IN THIS CELL THAT IS BELOW THIS LINE\n",
    "\"\"\"\n",
    "tests.test_flatten(flatten)"
   ]
  },
  {
   "cell_type": "markdown",
   "metadata": {
    "deletable": true,
    "editable": true
   },
   "source": [
    "### Fully-Connected Layer\n",
    "Implement the `fully_conn` function to apply a fully connected layer to `x_tensor` with the shape (*Batch Size*, *num_outputs*). Shortcut option: you can use classes from the [TensorFlow Layers](https://www.tensorflow.org/api_docs/python/tf/layers) or [TensorFlow Layers (contrib)](https://www.tensorflow.org/api_guides/python/contrib.layers) packages for this layer. For more of a challenge, only use other TensorFlow packages."
   ]
  },
  {
   "cell_type": "code",
   "execution_count": 17,
   "metadata": {
    "collapsed": false,
    "deletable": true,
    "editable": true
   },
   "outputs": [
    {
     "name": "stdout",
     "output_type": "stream",
     "text": [
      "Tests Passed\n"
     ]
    }
   ],
   "source": [
    "def fully_conn(x_tensor, num_outputs):\n",
    "    \"\"\"\n",
    "    Apply a fully connected layer to x_tensor using weight and bias\n",
    "    : x_tensor: A 2-D tensor where the first dimension is batch size.\n",
    "    : num_outputs: The number of output that the new tensor should be.\n",
    "    : return: A 2-D tensor where the second dimension is num_outputs.\n",
    "    \"\"\"\n",
    "    # TODO: Implement Function\n",
    "    \n",
    "    weights=tf.Variable(tf.truncated_normal([x_tensor.shape[1].value,num_outputs],mean=0,stddev=0.1))\n",
    "    bias=tf.Variable(tf.zeros(num_outputs))\n",
    "    \n",
    "    output=tf.add(tf.matmul(x_tensor,weights),bias)\n",
    "    output=tf.nn.relu(output)\n",
    "\n",
    "    return output\n",
    "\n",
    "\n",
    "\"\"\"\n",
    "DON'T MODIFY ANYTHING IN THIS CELL THAT IS BELOW THIS LINE\n",
    "\"\"\"\n",
    "tests.test_fully_conn(fully_conn)"
   ]
  },
  {
   "cell_type": "markdown",
   "metadata": {
    "deletable": true,
    "editable": true
   },
   "source": [
    "### Output Layer\n",
    "Implement the `output` function to apply a fully connected layer to `x_tensor` with the shape (*Batch Size*, *num_outputs*). Shortcut option: you can use classes from the [TensorFlow Layers](https://www.tensorflow.org/api_docs/python/tf/layers) or [TensorFlow Layers (contrib)](https://www.tensorflow.org/api_guides/python/contrib.layers) packages for this layer. For more of a challenge, only use other TensorFlow packages.\n",
    "\n",
    "**Note:** Activation, softmax, or cross entropy should **not** be applied to this."
   ]
  },
  {
   "cell_type": "code",
   "execution_count": 18,
   "metadata": {
    "collapsed": false,
    "deletable": true,
    "editable": true
   },
   "outputs": [
    {
     "name": "stdout",
     "output_type": "stream",
     "text": [
      "Tests Passed\n"
     ]
    }
   ],
   "source": [
    "def output(x_tensor, num_outputs):\n",
    "    \"\"\"\n",
    "    Apply a output layer to x_tensor using weight and bias\n",
    "    : x_tensor: A 2-D tensor where the first dimension is batch size.\n",
    "    : num_outputs: The number of output that the new tensor should be.\n",
    "    : return: A 2-D tensor where the second dimension is num_outputs.\n",
    "    \"\"\"\n",
    "    # TODO: Implement Function\n",
    "     \n",
    "    weights=tf.Variable(tf.truncated_normal([x_tensor.shape[1].value,num_outputs],mean=0,stddev=0.1))\n",
    "    bias=tf.Variable(tf.zeros(num_outputs))\n",
    "    \n",
    "    output=tf.add(tf.matmul(x_tensor,weights),bias)\n",
    "    output=tf.nn.relu(output)\n",
    "\n",
    "    return output\n",
    "\n",
    "\n",
    "\"\"\"\n",
    "DON'T MODIFY ANYTHING IN THIS CELL THAT IS BELOW THIS LINE\n",
    "\"\"\"\n",
    "tests.test_output(output)"
   ]
  },
  {
   "cell_type": "markdown",
   "metadata": {
    "deletable": true,
    "editable": true
   },
   "source": [
    "### Create Convolutional Model\n",
    "Implement the function `conv_net` to create a convolutional neural network model. The function takes in a batch of images, `x`, and outputs logits.  Use the layers you created above to create this model:\n",
    "\n",
    "* Apply 1, 2, or 3 Convolution and Max Pool layers\n",
    "* Apply a Flatten Layer\n",
    "* Apply 1, 2, or 3 Fully Connected Layers\n",
    "* Apply an Output Layer\n",
    "* Return the output\n",
    "* Apply [TensorFlow's Dropout](https://www.tensorflow.org/api_docs/python/tf/nn/dropout) to one or more layers in the model using `keep_prob`. "
   ]
  },
  {
   "cell_type": "code",
   "execution_count": 20,
   "metadata": {
    "collapsed": false,
    "deletable": true,
    "editable": true
   },
   "outputs": [
    {
     "name": "stdout",
     "output_type": "stream",
     "text": [
      "Neural Network Built!\n"
     ]
    }
   ],
   "source": [
    "def conv_net(x, keep_prob):\n",
    "    \"\"\"\n",
    "    Create a convolutional neural network model\n",
    "    : x: Placeholder tensor that holds image data.\n",
    "    : keep_prob: Placeholder tensor that hold dropout keep probability.\n",
    "    : return: Tensor that represents logits\n",
    "    \"\"\"\n",
    "    # TODO: Apply 1, 2, or 3 Convolution and Max Pool layers\n",
    "    #    Play around with different number of outputs, kernel size and stride\n",
    "    # Function Definition from Above:\n",
    "    #    conv2d_maxpool(x_tensor, conv_num_outputs, conv_ksize, conv_strides, pool_ksize, pool_strides)\n",
    "    conv_layer_1=conv2d_maxpool(x,16,[4,4],[1,1],[2,2],[2,2])\n",
    "    conv_layer_2=conv2d_maxpool(conv_layer_1,32,[4,4],[1,1],[2,2],[2,2])\n",
    "    conv_layer_3=conv2d_maxpool(conv_layer_2,64,[4,4],[1,1],[2,2],[2,2])\n",
    "    \n",
    "    \n",
    "    \n",
    "\n",
    "    # TODO: Apply a Flatten Layer\n",
    "    # Function Definition from Above:\n",
    "    #   flatten(x_tensor)\n",
    "    \n",
    "    flat =flatten(conv_layer_3)\n",
    "\n",
    "    # TODO: Apply 1, 2, or 3 Fully Connected Layers\n",
    "    #    Play around with different number of outputs\n",
    "    # Function Definition from Above:\n",
    "    #   fully_conn(x_tensor, num_outputs)\n",
    "    \n",
    "    fc=fully_conn(flat,10)\n",
    "    fc=tf.nn.dropout(fc,keep_prob)\n",
    "    \n",
    "    # TODO: Apply an Output Layer\n",
    "    #    Set this to the number of classes\n",
    "    # Function Definition from Above:\n",
    "    #   output(x_tensor, num_outputs)\n",
    "    \n",
    "  \n",
    "    # TODO: return output\n",
    "    return output(fc,10)\n",
    "\n",
    "\n",
    "\"\"\"\n",
    "DON'T MODIFY ANYTHING IN THIS CELL THAT IS BELOW THIS LINE\n",
    "\"\"\"\n",
    "\n",
    "##############################\n",
    "## Build the Neural Network ##\n",
    "##############################\n",
    "\n",
    "# Remove previous weights, bias, inputs, etc..\n",
    "tf.reset_default_graph()\n",
    "\n",
    "# Inputs\n",
    "x = neural_net_image_input((32, 32, 3))\n",
    "y = neural_net_label_input(10)\n",
    "keep_prob = neural_net_keep_prob_input()\n",
    "\n",
    "# Model\n",
    "logits = conv_net(x, keep_prob)\n",
    "\n",
    "# Name logits Tensor, so that is can be loaded from disk after training\n",
    "logits = tf.identity(logits, name='logits')\n",
    "\n",
    "# Loss and Optimizer\n",
    "cost = tf.reduce_mean(tf.nn.softmax_cross_entropy_with_logits(logits=logits, labels=y))\n",
    "optimizer = tf.train.AdamOptimizer().minimize(cost)\n",
    "\n",
    "# Accuracy\n",
    "correct_pred = tf.equal(tf.argmax(logits, 1), tf.argmax(y, 1))\n",
    "accuracy = tf.reduce_mean(tf.cast(correct_pred, tf.float32), name='accuracy')\n",
    "\n",
    "tests.test_conv_net(conv_net)"
   ]
  },
  {
   "cell_type": "markdown",
   "metadata": {
    "deletable": true,
    "editable": true
   },
   "source": [
    "## Train the Neural Network\n",
    "### Single Optimization\n",
    "Implement the function `train_neural_network` to do a single optimization.  The optimization should use `optimizer` to optimize in `session` with a `feed_dict` of the following:\n",
    "* `x` for image input\n",
    "* `y` for labels\n",
    "* `keep_prob` for keep probability for dropout\n",
    "\n",
    "This function will be called for each batch, so `tf.global_variables_initializer()` has already been called.\n",
    "\n",
    "Note: Nothing needs to be returned. This function is only optimizing the neural network."
   ]
  },
  {
   "cell_type": "code",
   "execution_count": 21,
   "metadata": {
    "collapsed": false,
    "deletable": true,
    "editable": true
   },
   "outputs": [
    {
     "name": "stdout",
     "output_type": "stream",
     "text": [
      "Tests Passed\n"
     ]
    }
   ],
   "source": [
    "def train_neural_network(session, optimizer, keep_probability, feature_batch, label_batch):\n",
    "    \"\"\"\n",
    "    Optimize the session on a batch of images and labels\n",
    "    : session: Current TensorFlow session\n",
    "    : optimizer: TensorFlow optimizer function\n",
    "    : keep_probability: keep probability\n",
    "    : feature_batch: Batch of Numpy image data\n",
    "    : label_batch: Batch of Numpy label data\n",
    "    \"\"\"\n",
    "    # TODO: Implement Function\n",
    "    session.run(optimizer,feed_dict={x:feature_batch,y:label_batch,keep_prob:keep_probability})\n",
    "    \n",
    "\n",
    "\n",
    "\"\"\"\n",
    "DON'T MODIFY ANYTHING IN THIS CELL THAT IS BELOW THIS LINE\n",
    "\"\"\"\n",
    "tests.test_train_nn(train_neural_network)"
   ]
  },
  {
   "cell_type": "markdown",
   "metadata": {
    "deletable": true,
    "editable": true
   },
   "source": [
    "### Show Stats\n",
    "Implement the function `print_stats` to print loss and validation accuracy.  Use the global variables `valid_features` and `valid_labels` to calculate validation accuracy.  Use a keep probability of `1.0` to calculate the loss and validation accuracy."
   ]
  },
  {
   "cell_type": "code",
   "execution_count": 94,
   "metadata": {
    "collapsed": false,
    "deletable": true,
    "editable": true
   },
   "outputs": [],
   "source": [
    "def print_stats(session, feature_batch, label_batch, cost, accuracy):\n",
    "    \"\"\"\n",
    "    Print information about loss and validation accuracy\n",
    "    : session: Current TensorFlow session\n",
    "    : feature_batch: Batch of Numpy image data\n",
    "    : label_batch: Batch of Numpy label data\n",
    "    : cost: TensorFlow cost function\n",
    "    : accuracy: TensorFlow accuracy function\n",
    "    \"\"\"\n",
    "    # TODO: Implement Function\n",
    "    loss=session.run(cost,feed_dict={x:feature_batch,y:label_batch,keep_prob:1.0})\n",
    "    valid_accuracy=session.run(accuracy,feed_dict={x:valid_features,y:valid_labels,keep_prob:1.0})\n",
    "\n",
    "    print('Loss: {:>10.4f} Validation Accuracy: {:.6f}'.format(loss,valid_accuracy))\n",
    "    "
   ]
  },
  {
   "cell_type": "markdown",
   "metadata": {
    "deletable": true,
    "editable": true
   },
   "source": [
    "### Hyperparameters\n",
    "Tune the following parameters:\n",
    "* Set `epochs` to the number of iterations until the network stops learning or start overfitting\n",
    "* Set `batch_size` to the highest number that your machine has memory for.  Most people set them to common sizes of memory:\n",
    " * 64\n",
    " * 128\n",
    " * 256\n",
    " * ...\n",
    "* Set `keep_probability` to the probability of keeping a node using dropout"
   ]
  },
  {
   "cell_type": "code",
   "execution_count": 121,
   "metadata": {
    "collapsed": true,
    "deletable": true,
    "editable": true
   },
   "outputs": [],
   "source": [
    "# TODO: Tune Parameters\n",
    "epochs = 60\n",
    "batch_size = 256\n",
    "keep_probability = 0.8"
   ]
  },
  {
   "cell_type": "markdown",
   "metadata": {
    "deletable": true,
    "editable": true
   },
   "source": [
    "### Train on a Single CIFAR-10 Batch\n",
    "Instead of training the neural network on all the CIFAR-10 batches of data, let's use a single batch. This should save time while you iterate on the model to get a better accuracy.  Once the final validation accuracy is 50% or greater, run the model on all the data in the next section."
   ]
  },
  {
   "cell_type": "code",
   "execution_count": 122,
   "metadata": {
    "collapsed": false,
    "deletable": true,
    "editable": true
   },
   "outputs": [
    {
     "name": "stdout",
     "output_type": "stream",
     "text": [
      "Checking the Training on a Single Batch...\n",
      "Epoch  1, CIFAR-10 Batch 1:  Loss:     2.2746 Validation Accuracy: 0.154000\n",
      "Epoch  2, CIFAR-10 Batch 1:  Loss:     2.2310 Validation Accuracy: 0.213400\n",
      "Epoch  3, CIFAR-10 Batch 1:  Loss:     2.0267 Validation Accuracy: 0.291000\n",
      "Epoch  4, CIFAR-10 Batch 1:  Loss:     1.9134 Validation Accuracy: 0.345800\n",
      "Epoch  5, CIFAR-10 Batch 1:  Loss:     1.7998 Validation Accuracy: 0.378200\n",
      "Epoch  6, CIFAR-10 Batch 1:  Loss:     1.6884 Validation Accuracy: 0.413600\n",
      "Epoch  7, CIFAR-10 Batch 1:  Loss:     1.6002 Validation Accuracy: 0.415000\n",
      "Epoch  8, CIFAR-10 Batch 1:  Loss:     1.5349 Validation Accuracy: 0.446400\n",
      "Epoch  9, CIFAR-10 Batch 1:  Loss:     1.4654 Validation Accuracy: 0.446800\n",
      "Epoch 10, CIFAR-10 Batch 1:  Loss:     1.4227 Validation Accuracy: 0.463600\n",
      "Epoch 11, CIFAR-10 Batch 1:  Loss:     1.3383 Validation Accuracy: 0.460200\n",
      "Epoch 12, CIFAR-10 Batch 1:  Loss:     1.2848 Validation Accuracy: 0.469000\n",
      "Epoch 13, CIFAR-10 Batch 1:  Loss:     1.2837 Validation Accuracy: 0.429000\n",
      "Epoch 14, CIFAR-10 Batch 1:  Loss:     1.1951 Validation Accuracy: 0.457400\n",
      "Epoch 15, CIFAR-10 Batch 1:  Loss:     1.1479 Validation Accuracy: 0.477200\n",
      "Epoch 16, CIFAR-10 Batch 1:  Loss:     1.0903 Validation Accuracy: 0.486800\n",
      "Epoch 17, CIFAR-10 Batch 1:  Loss:     1.0806 Validation Accuracy: 0.468000\n",
      "Epoch 18, CIFAR-10 Batch 1:  Loss:     1.0908 Validation Accuracy: 0.465400\n",
      "Epoch 19, CIFAR-10 Batch 1:  Loss:     1.0763 Validation Accuracy: 0.468600\n",
      "Epoch 20, CIFAR-10 Batch 1:  Loss:     1.0018 Validation Accuracy: 0.502200\n",
      "Epoch 21, CIFAR-10 Batch 1:  Loss:     1.0415 Validation Accuracy: 0.507200\n",
      "Epoch 22, CIFAR-10 Batch 1:  Loss:     0.9730 Validation Accuracy: 0.510400\n",
      "Epoch 23, CIFAR-10 Batch 1:  Loss:     0.9309 Validation Accuracy: 0.514800\n",
      "Epoch 24, CIFAR-10 Batch 1:  Loss:     0.9373 Validation Accuracy: 0.502800\n",
      "Epoch 25, CIFAR-10 Batch 1:  Loss:     0.9361 Validation Accuracy: 0.501200\n",
      "Epoch 26, CIFAR-10 Batch 1:  Loss:     0.8750 Validation Accuracy: 0.503600\n",
      "Epoch 27, CIFAR-10 Batch 1:  Loss:     0.8478 Validation Accuracy: 0.518800\n",
      "Epoch 28, CIFAR-10 Batch 1:  Loss:     0.8234 Validation Accuracy: 0.512800\n",
      "Epoch 29, CIFAR-10 Batch 1:  Loss:     0.8135 Validation Accuracy: 0.518400\n",
      "Epoch 30, CIFAR-10 Batch 1:  Loss:     0.7854 Validation Accuracy: 0.521800\n",
      "Epoch 31, CIFAR-10 Batch 1:  Loss:     0.7651 Validation Accuracy: 0.514600\n",
      "Epoch 32, CIFAR-10 Batch 1:  Loss:     0.7647 Validation Accuracy: 0.518000\n",
      "Epoch 33, CIFAR-10 Batch 1:  Loss:     0.7556 Validation Accuracy: 0.506200\n",
      "Epoch 34, CIFAR-10 Batch 1:  Loss:     0.7542 Validation Accuracy: 0.510000\n",
      "Epoch 35, CIFAR-10 Batch 1:  Loss:     0.8296 Validation Accuracy: 0.490600\n",
      "Epoch 36, CIFAR-10 Batch 1:  Loss:     0.7927 Validation Accuracy: 0.498600\n",
      "Epoch 37, CIFAR-10 Batch 1:  Loss:     0.7405 Validation Accuracy: 0.508600\n",
      "Epoch 38, CIFAR-10 Batch 1:  Loss:     0.7260 Validation Accuracy: 0.518200\n",
      "Epoch 39, CIFAR-10 Batch 1:  Loss:     0.6895 Validation Accuracy: 0.514800\n",
      "Epoch 40, CIFAR-10 Batch 1:  Loss:     0.6795 Validation Accuracy: 0.513400\n",
      "Epoch 41, CIFAR-10 Batch 1:  Loss:     0.6672 Validation Accuracy: 0.525400\n",
      "Epoch 42, CIFAR-10 Batch 1:  Loss:     0.6588 Validation Accuracy: 0.508000\n",
      "Epoch 43, CIFAR-10 Batch 1:  Loss:     0.7031 Validation Accuracy: 0.493600\n",
      "Epoch 44, CIFAR-10 Batch 1:  Loss:     0.6578 Validation Accuracy: 0.502800\n",
      "Epoch 45, CIFAR-10 Batch 1:  Loss:     0.6301 Validation Accuracy: 0.499600\n",
      "Epoch 46, CIFAR-10 Batch 1:  Loss:     0.6506 Validation Accuracy: 0.510600\n",
      "Epoch 47, CIFAR-10 Batch 1:  Loss:     0.5865 Validation Accuracy: 0.519000\n",
      "Epoch 48, CIFAR-10 Batch 1:  Loss:     0.5591 Validation Accuracy: 0.518200\n",
      "Epoch 49, CIFAR-10 Batch 1:  Loss:     0.5670 Validation Accuracy: 0.517800\n",
      "Epoch 50, CIFAR-10 Batch 1:  Loss:     0.5367 Validation Accuracy: 0.522400\n",
      "Epoch 51, CIFAR-10 Batch 1:  Loss:     0.5465 Validation Accuracy: 0.521600\n",
      "Epoch 52, CIFAR-10 Batch 1:  Loss:     0.5578 Validation Accuracy: 0.520000\n",
      "Epoch 53, CIFAR-10 Batch 1:  Loss:     0.5709 Validation Accuracy: 0.515000\n",
      "Epoch 54, CIFAR-10 Batch 1:  Loss:     0.5403 Validation Accuracy: 0.523000\n",
      "Epoch 55, CIFAR-10 Batch 1:  Loss:     0.5519 Validation Accuracy: 0.511400\n",
      "Epoch 56, CIFAR-10 Batch 1:  Loss:     0.5629 Validation Accuracy: 0.513600\n",
      "Epoch 57, CIFAR-10 Batch 1:  Loss:     0.5162 Validation Accuracy: 0.529400\n",
      "Epoch 58, CIFAR-10 Batch 1:  Loss:     0.4774 Validation Accuracy: 0.520600\n",
      "Epoch 59, CIFAR-10 Batch 1:  Loss:     0.4804 Validation Accuracy: 0.527600\n",
      "Epoch 60, CIFAR-10 Batch 1:  Loss:     0.4939 Validation Accuracy: 0.510000\n"
     ]
    }
   ],
   "source": [
    "\"\"\"\n",
    "DON'T MODIFY ANYTHING IN THIS CELL\n",
    "\"\"\"\n",
    "print('Checking the Training on a Single Batch...')\n",
    "with tf.Session() as sess:\n",
    "    # Initializing the variables\n",
    "    sess.run(tf.global_variables_initializer())\n",
    "    \n",
    "    # Training cycle\n",
    "    for epoch in range(epochs):\n",
    "        batch_i = 1\n",
    "        for batch_features, batch_labels in helper.load_preprocess_training_batch(batch_i, batch_size):\n",
    "            train_neural_network(sess, optimizer, keep_probability, batch_features, batch_labels)\n",
    "        print('Epoch {:>2}, CIFAR-10 Batch {}:  '.format(epoch + 1, batch_i), end='')\n",
    "        print_stats(sess, batch_features, batch_labels, cost, accuracy)"
   ]
  },
  {
   "cell_type": "markdown",
   "metadata": {
    "deletable": true,
    "editable": true
   },
   "source": [
    "### Fully Train the Model\n",
    "Now that you got a good accuracy with a single CIFAR-10 batch, try it with all five batches."
   ]
  },
  {
   "cell_type": "code",
   "execution_count": 123,
   "metadata": {
    "collapsed": false,
    "deletable": true,
    "editable": true
   },
   "outputs": [
    {
     "name": "stdout",
     "output_type": "stream",
     "text": [
      "Training...\n",
      "Epoch  1, CIFAR-10 Batch 1:  Loss:     2.2535 Validation Accuracy: 0.202600\n",
      "Epoch  1, CIFAR-10 Batch 2:  Loss:     2.1573 Validation Accuracy: 0.250600\n",
      "Epoch  1, CIFAR-10 Batch 3:  Loss:     1.9528 Validation Accuracy: 0.311400\n",
      "Epoch  1, CIFAR-10 Batch 4:  Loss:     2.0285 Validation Accuracy: 0.341600\n",
      "Epoch  1, CIFAR-10 Batch 5:  Loss:     1.8928 Validation Accuracy: 0.369400\n",
      "Epoch  2, CIFAR-10 Batch 1:  Loss:     1.9374 Validation Accuracy: 0.368400\n",
      "Epoch  2, CIFAR-10 Batch 2:  Loss:     1.9831 Validation Accuracy: 0.404400\n",
      "Epoch  2, CIFAR-10 Batch 3:  Loss:     1.7062 Validation Accuracy: 0.415600\n",
      "Epoch  2, CIFAR-10 Batch 4:  Loss:     1.7479 Validation Accuracy: 0.407800\n",
      "Epoch  2, CIFAR-10 Batch 5:  Loss:     1.7072 Validation Accuracy: 0.422400\n",
      "Epoch  3, CIFAR-10 Batch 1:  Loss:     1.8241 Validation Accuracy: 0.429800\n",
      "Epoch  3, CIFAR-10 Batch 2:  Loss:     1.8242 Validation Accuracy: 0.434400\n",
      "Epoch  3, CIFAR-10 Batch 3:  Loss:     1.6389 Validation Accuracy: 0.435000\n",
      "Epoch  3, CIFAR-10 Batch 4:  Loss:     1.6240 Validation Accuracy: 0.434400\n",
      "Epoch  3, CIFAR-10 Batch 5:  Loss:     1.5272 Validation Accuracy: 0.458000\n",
      "Epoch  4, CIFAR-10 Batch 1:  Loss:     1.6761 Validation Accuracy: 0.469600\n",
      "Epoch  4, CIFAR-10 Batch 2:  Loss:     1.6759 Validation Accuracy: 0.460800\n",
      "Epoch  4, CIFAR-10 Batch 3:  Loss:     1.5164 Validation Accuracy: 0.474800\n",
      "Epoch  4, CIFAR-10 Batch 4:  Loss:     1.5492 Validation Accuracy: 0.466000\n",
      "Epoch  4, CIFAR-10 Batch 5:  Loss:     1.3284 Validation Accuracy: 0.483800\n",
      "Epoch  5, CIFAR-10 Batch 1:  Loss:     1.4344 Validation Accuracy: 0.487400\n",
      "Epoch  5, CIFAR-10 Batch 2:  Loss:     1.2960 Validation Accuracy: 0.478800\n",
      "Epoch  5, CIFAR-10 Batch 3:  Loss:     1.2187 Validation Accuracy: 0.496800\n",
      "Epoch  5, CIFAR-10 Batch 4:  Loss:     1.3233 Validation Accuracy: 0.503000\n",
      "Epoch  5, CIFAR-10 Batch 5:  Loss:     1.2577 Validation Accuracy: 0.507600\n",
      "Epoch  6, CIFAR-10 Batch 1:  Loss:     1.3711 Validation Accuracy: 0.500000\n",
      "Epoch  6, CIFAR-10 Batch 2:  Loss:     1.2265 Validation Accuracy: 0.501000\n",
      "Epoch  6, CIFAR-10 Batch 3:  Loss:     1.1440 Validation Accuracy: 0.514600\n",
      "Epoch  6, CIFAR-10 Batch 4:  Loss:     1.2610 Validation Accuracy: 0.527800\n",
      "Epoch  6, CIFAR-10 Batch 5:  Loss:     1.2037 Validation Accuracy: 0.525200\n",
      "Epoch  7, CIFAR-10 Batch 1:  Loss:     1.1920 Validation Accuracy: 0.516000\n",
      "Epoch  7, CIFAR-10 Batch 2:  Loss:     1.1932 Validation Accuracy: 0.521000\n",
      "Epoch  7, CIFAR-10 Batch 3:  Loss:     1.0661 Validation Accuracy: 0.524600\n",
      "Epoch  7, CIFAR-10 Batch 4:  Loss:     1.2171 Validation Accuracy: 0.537200\n",
      "Epoch  7, CIFAR-10 Batch 5:  Loss:     1.1548 Validation Accuracy: 0.522800\n",
      "Epoch  8, CIFAR-10 Batch 1:  Loss:     1.1045 Validation Accuracy: 0.542000\n",
      "Epoch  8, CIFAR-10 Batch 2:  Loss:     1.1569 Validation Accuracy: 0.541200\n",
      "Epoch  8, CIFAR-10 Batch 3:  Loss:     1.0127 Validation Accuracy: 0.543800\n",
      "Epoch  8, CIFAR-10 Batch 4:  Loss:     1.1438 Validation Accuracy: 0.538000\n",
      "Epoch  8, CIFAR-10 Batch 5:  Loss:     1.1053 Validation Accuracy: 0.537600\n",
      "Epoch  9, CIFAR-10 Batch 1:  Loss:     1.0779 Validation Accuracy: 0.545800\n",
      "Epoch  9, CIFAR-10 Batch 2:  Loss:     1.0828 Validation Accuracy: 0.551000\n",
      "Epoch  9, CIFAR-10 Batch 3:  Loss:     0.9683 Validation Accuracy: 0.561800\n",
      "Epoch  9, CIFAR-10 Batch 4:  Loss:     1.0814 Validation Accuracy: 0.555600\n",
      "Epoch  9, CIFAR-10 Batch 5:  Loss:     1.0315 Validation Accuracy: 0.553600\n",
      "Epoch 10, CIFAR-10 Batch 1:  Loss:     1.0413 Validation Accuracy: 0.550800\n",
      "Epoch 10, CIFAR-10 Batch 2:  Loss:     1.0768 Validation Accuracy: 0.554200\n",
      "Epoch 10, CIFAR-10 Batch 3:  Loss:     0.8822 Validation Accuracy: 0.573200\n",
      "Epoch 10, CIFAR-10 Batch 4:  Loss:     1.0554 Validation Accuracy: 0.570000\n",
      "Epoch 10, CIFAR-10 Batch 5:  Loss:     0.9999 Validation Accuracy: 0.559000\n",
      "Epoch 11, CIFAR-10 Batch 1:  Loss:     0.9788 Validation Accuracy: 0.558800\n",
      "Epoch 11, CIFAR-10 Batch 2:  Loss:     1.0097 Validation Accuracy: 0.568800\n",
      "Epoch 11, CIFAR-10 Batch 3:  Loss:     0.8614 Validation Accuracy: 0.568600\n",
      "Epoch 11, CIFAR-10 Batch 4:  Loss:     1.0112 Validation Accuracy: 0.575200\n",
      "Epoch 11, CIFAR-10 Batch 5:  Loss:     0.9106 Validation Accuracy: 0.566800\n",
      "Epoch 12, CIFAR-10 Batch 1:  Loss:     0.9613 Validation Accuracy: 0.576800\n",
      "Epoch 12, CIFAR-10 Batch 2:  Loss:     1.0294 Validation Accuracy: 0.550400\n",
      "Epoch 12, CIFAR-10 Batch 3:  Loss:     0.8140 Validation Accuracy: 0.570600\n",
      "Epoch 12, CIFAR-10 Batch 4:  Loss:     1.0038 Validation Accuracy: 0.571600\n",
      "Epoch 12, CIFAR-10 Batch 5:  Loss:     0.8493 Validation Accuracy: 0.574000\n",
      "Epoch 13, CIFAR-10 Batch 1:  Loss:     0.8944 Validation Accuracy: 0.578800\n",
      "Epoch 13, CIFAR-10 Batch 2:  Loss:     0.9425 Validation Accuracy: 0.565200\n",
      "Epoch 13, CIFAR-10 Batch 3:  Loss:     0.8115 Validation Accuracy: 0.565600\n",
      "Epoch 13, CIFAR-10 Batch 4:  Loss:     0.9200 Validation Accuracy: 0.578400\n",
      "Epoch 13, CIFAR-10 Batch 5:  Loss:     0.8188 Validation Accuracy: 0.581600\n",
      "Epoch 14, CIFAR-10 Batch 1:  Loss:     0.9156 Validation Accuracy: 0.566600\n",
      "Epoch 14, CIFAR-10 Batch 2:  Loss:     0.8660 Validation Accuracy: 0.579400\n",
      "Epoch 14, CIFAR-10 Batch 3:  Loss:     0.7754 Validation Accuracy: 0.583400\n",
      "Epoch 14, CIFAR-10 Batch 4:  Loss:     0.8821 Validation Accuracy: 0.582200\n",
      "Epoch 14, CIFAR-10 Batch 5:  Loss:     0.7780 Validation Accuracy: 0.584600\n",
      "Epoch 15, CIFAR-10 Batch 1:  Loss:     0.8546 Validation Accuracy: 0.571200\n",
      "Epoch 15, CIFAR-10 Batch 2:  Loss:     0.8704 Validation Accuracy: 0.587800\n",
      "Epoch 15, CIFAR-10 Batch 3:  Loss:     0.7606 Validation Accuracy: 0.596200\n",
      "Epoch 15, CIFAR-10 Batch 4:  Loss:     0.8797 Validation Accuracy: 0.594600\n",
      "Epoch 15, CIFAR-10 Batch 5:  Loss:     0.7148 Validation Accuracy: 0.583200\n",
      "Epoch 16, CIFAR-10 Batch 1:  Loss:     0.8247 Validation Accuracy: 0.589800\n",
      "Epoch 16, CIFAR-10 Batch 2:  Loss:     0.8308 Validation Accuracy: 0.597600\n",
      "Epoch 16, CIFAR-10 Batch 3:  Loss:     0.7190 Validation Accuracy: 0.579000\n",
      "Epoch 16, CIFAR-10 Batch 4:  Loss:     0.8445 Validation Accuracy: 0.595200\n",
      "Epoch 16, CIFAR-10 Batch 5:  Loss:     0.7145 Validation Accuracy: 0.595200\n",
      "Epoch 17, CIFAR-10 Batch 1:  Loss:     0.8136 Validation Accuracy: 0.588200\n",
      "Epoch 17, CIFAR-10 Batch 2:  Loss:     0.7775 Validation Accuracy: 0.592000\n",
      "Epoch 17, CIFAR-10 Batch 3:  Loss:     0.6913 Validation Accuracy: 0.596600\n",
      "Epoch 17, CIFAR-10 Batch 4:  Loss:     0.8060 Validation Accuracy: 0.604600\n",
      "Epoch 17, CIFAR-10 Batch 5:  Loss:     0.6693 Validation Accuracy: 0.596600\n",
      "Epoch 18, CIFAR-10 Batch 1:  Loss:     0.8196 Validation Accuracy: 0.577800\n",
      "Epoch 18, CIFAR-10 Batch 2:  Loss:     0.7666 Validation Accuracy: 0.586800\n",
      "Epoch 18, CIFAR-10 Batch 3:  Loss:     0.6886 Validation Accuracy: 0.592800\n",
      "Epoch 18, CIFAR-10 Batch 4:  Loss:     0.7934 Validation Accuracy: 0.603800\n",
      "Epoch 18, CIFAR-10 Batch 5:  Loss:     0.6773 Validation Accuracy: 0.592600\n",
      "Epoch 19, CIFAR-10 Batch 1:  Loss:     0.7782 Validation Accuracy: 0.589000\n",
      "Epoch 19, CIFAR-10 Batch 2:  Loss:     0.7322 Validation Accuracy: 0.600600\n",
      "Epoch 19, CIFAR-10 Batch 3:  Loss:     0.7094 Validation Accuracy: 0.594000\n",
      "Epoch 19, CIFAR-10 Batch 4:  Loss:     0.7597 Validation Accuracy: 0.603400\n",
      "Epoch 19, CIFAR-10 Batch 5:  Loss:     0.6276 Validation Accuracy: 0.609000\n",
      "Epoch 20, CIFAR-10 Batch 1:  Loss:     0.7295 Validation Accuracy: 0.607000\n",
      "Epoch 20, CIFAR-10 Batch 2:  Loss:     0.7359 Validation Accuracy: 0.581800\n",
      "Epoch 20, CIFAR-10 Batch 3:  Loss:     0.7010 Validation Accuracy: 0.587400\n",
      "Epoch 20, CIFAR-10 Batch 4:  Loss:     0.7463 Validation Accuracy: 0.603000\n",
      "Epoch 20, CIFAR-10 Batch 5:  Loss:     0.5887 Validation Accuracy: 0.594600\n",
      "Epoch 21, CIFAR-10 Batch 1:  Loss:     0.7320 Validation Accuracy: 0.583400\n",
      "Epoch 21, CIFAR-10 Batch 2:  Loss:     0.7058 Validation Accuracy: 0.602800\n",
      "Epoch 21, CIFAR-10 Batch 3:  Loss:     0.6757 Validation Accuracy: 0.587200\n",
      "Epoch 21, CIFAR-10 Batch 4:  Loss:     0.7517 Validation Accuracy: 0.605200\n",
      "Epoch 21, CIFAR-10 Batch 5:  Loss:     0.5859 Validation Accuracy: 0.600400\n",
      "Epoch 22, CIFAR-10 Batch 1:  Loss:     0.7008 Validation Accuracy: 0.608800\n",
      "Epoch 22, CIFAR-10 Batch 2:  Loss:     0.7168 Validation Accuracy: 0.605400\n",
      "Epoch 22, CIFAR-10 Batch 3:  Loss:     0.6428 Validation Accuracy: 0.605400\n",
      "Epoch 22, CIFAR-10 Batch 4:  Loss:     0.7173 Validation Accuracy: 0.601200\n",
      "Epoch 22, CIFAR-10 Batch 5:  Loss:     0.5723 Validation Accuracy: 0.600200\n",
      "Epoch 23, CIFAR-10 Batch 1:  Loss:     0.6490 Validation Accuracy: 0.616000\n",
      "Epoch 23, CIFAR-10 Batch 2:  Loss:     0.6794 Validation Accuracy: 0.595200\n",
      "Epoch 23, CIFAR-10 Batch 3:  Loss:     0.6305 Validation Accuracy: 0.595200\n",
      "Epoch 23, CIFAR-10 Batch 4:  Loss:     0.7030 Validation Accuracy: 0.604800\n",
      "Epoch 23, CIFAR-10 Batch 5:  Loss:     0.5171 Validation Accuracy: 0.611800\n",
      "Epoch 24, CIFAR-10 Batch 1:  Loss:     0.6343 Validation Accuracy: 0.621200\n",
      "Epoch 24, CIFAR-10 Batch 2:  Loss:     0.6287 Validation Accuracy: 0.614600\n",
      "Epoch 24, CIFAR-10 Batch 3:  Loss:     0.6500 Validation Accuracy: 0.595400\n",
      "Epoch 24, CIFAR-10 Batch 4:  Loss:     0.6923 Validation Accuracy: 0.615400\n",
      "Epoch 24, CIFAR-10 Batch 5:  Loss:     0.5441 Validation Accuracy: 0.611400\n",
      "Epoch 25, CIFAR-10 Batch 1:  Loss:     0.6374 Validation Accuracy: 0.626800\n",
      "Epoch 25, CIFAR-10 Batch 2:  Loss:     0.6120 Validation Accuracy: 0.626200\n",
      "Epoch 25, CIFAR-10 Batch 3:  Loss:     0.5869 Validation Accuracy: 0.602200\n",
      "Epoch 25, CIFAR-10 Batch 4:  Loss:     0.6642 Validation Accuracy: 0.615400\n",
      "Epoch 25, CIFAR-10 Batch 5:  Loss:     0.5146 Validation Accuracy: 0.619200\n",
      "Epoch 26, CIFAR-10 Batch 1:  Loss:     0.6213 Validation Accuracy: 0.616400\n",
      "Epoch 26, CIFAR-10 Batch 2:  Loss:     0.5989 Validation Accuracy: 0.622400\n",
      "Epoch 26, CIFAR-10 Batch 3:  Loss:     0.5708 Validation Accuracy: 0.595600\n",
      "Epoch 26, CIFAR-10 Batch 4:  Loss:     0.6743 Validation Accuracy: 0.616600\n",
      "Epoch 26, CIFAR-10 Batch 5:  Loss:     0.5122 Validation Accuracy: 0.626400\n",
      "Epoch 27, CIFAR-10 Batch 1:  Loss:     0.5778 Validation Accuracy: 0.620200\n",
      "Epoch 27, CIFAR-10 Batch 2:  Loss:     0.5638 Validation Accuracy: 0.620000\n",
      "Epoch 27, CIFAR-10 Batch 3:  Loss:     0.5577 Validation Accuracy: 0.612200\n",
      "Epoch 27, CIFAR-10 Batch 4:  Loss:     0.6781 Validation Accuracy: 0.617400\n",
      "Epoch 27, CIFAR-10 Batch 5:  Loss:     0.5069 Validation Accuracy: 0.618000\n",
      "Epoch 28, CIFAR-10 Batch 1:  Loss:     0.6002 Validation Accuracy: 0.614200\n",
      "Epoch 28, CIFAR-10 Batch 2:  Loss:     0.5632 Validation Accuracy: 0.615400\n",
      "Epoch 28, CIFAR-10 Batch 3:  Loss:     0.5528 Validation Accuracy: 0.632800\n",
      "Epoch 28, CIFAR-10 Batch 4:  Loss:     0.6253 Validation Accuracy: 0.631400\n",
      "Epoch 28, CIFAR-10 Batch 5:  Loss:     0.4820 Validation Accuracy: 0.629800\n",
      "Epoch 29, CIFAR-10 Batch 1:  Loss:     0.5541 Validation Accuracy: 0.629200\n",
      "Epoch 29, CIFAR-10 Batch 2:  Loss:     0.5400 Validation Accuracy: 0.630200\n",
      "Epoch 29, CIFAR-10 Batch 3:  Loss:     0.5393 Validation Accuracy: 0.621200\n",
      "Epoch 29, CIFAR-10 Batch 4:  Loss:     0.6516 Validation Accuracy: 0.625800\n",
      "Epoch 29, CIFAR-10 Batch 5:  Loss:     0.4568 Validation Accuracy: 0.627800\n",
      "Epoch 30, CIFAR-10 Batch 1:  Loss:     0.5626 Validation Accuracy: 0.608400\n",
      "Epoch 30, CIFAR-10 Batch 2:  Loss:     0.5146 Validation Accuracy: 0.624200\n",
      "Epoch 30, CIFAR-10 Batch 3:  Loss:     0.5259 Validation Accuracy: 0.596200\n",
      "Epoch 30, CIFAR-10 Batch 4:  Loss:     0.6167 Validation Accuracy: 0.614200\n",
      "Epoch 30, CIFAR-10 Batch 5:  Loss:     0.4561 Validation Accuracy: 0.624000\n",
      "Epoch 31, CIFAR-10 Batch 1:  Loss:     0.5740 Validation Accuracy: 0.621400\n",
      "Epoch 31, CIFAR-10 Batch 2:  Loss:     0.5038 Validation Accuracy: 0.619600\n",
      "Epoch 31, CIFAR-10 Batch 3:  Loss:     0.5225 Validation Accuracy: 0.607000\n",
      "Epoch 31, CIFAR-10 Batch 4:  Loss:     0.5914 Validation Accuracy: 0.628800\n",
      "Epoch 31, CIFAR-10 Batch 5:  Loss:     0.4564 Validation Accuracy: 0.629200\n",
      "Epoch 32, CIFAR-10 Batch 1:  Loss:     0.5448 Validation Accuracy: 0.625800\n",
      "Epoch 32, CIFAR-10 Batch 2:  Loss:     0.5139 Validation Accuracy: 0.621200\n",
      "Epoch 32, CIFAR-10 Batch 3:  Loss:     0.5281 Validation Accuracy: 0.614400\n",
      "Epoch 32, CIFAR-10 Batch 4:  Loss:     0.6163 Validation Accuracy: 0.632400\n",
      "Epoch 32, CIFAR-10 Batch 5:  Loss:     0.4213 Validation Accuracy: 0.635400\n",
      "Epoch 33, CIFAR-10 Batch 1:  Loss:     0.5444 Validation Accuracy: 0.625600\n",
      "Epoch 33, CIFAR-10 Batch 2:  Loss:     0.4995 Validation Accuracy: 0.621000\n",
      "Epoch 33, CIFAR-10 Batch 3:  Loss:     0.4930 Validation Accuracy: 0.613000\n",
      "Epoch 33, CIFAR-10 Batch 4:  Loss:     0.5882 Validation Accuracy: 0.624000\n",
      "Epoch 33, CIFAR-10 Batch 5:  Loss:     0.4307 Validation Accuracy: 0.634400\n",
      "Epoch 34, CIFAR-10 Batch 1:  Loss:     0.5165 Validation Accuracy: 0.624200\n",
      "Epoch 34, CIFAR-10 Batch 2:  Loss:     0.4902 Validation Accuracy: 0.619400\n",
      "Epoch 34, CIFAR-10 Batch 3:  Loss:     0.4961 Validation Accuracy: 0.597000\n",
      "Epoch 34, CIFAR-10 Batch 4:  Loss:     0.6291 Validation Accuracy: 0.611800\n",
      "Epoch 34, CIFAR-10 Batch 5:  Loss:     0.4331 Validation Accuracy: 0.638400\n",
      "Epoch 35, CIFAR-10 Batch 1:  Loss:     0.5382 Validation Accuracy: 0.621600\n",
      "Epoch 35, CIFAR-10 Batch 2:  Loss:     0.4796 Validation Accuracy: 0.630200\n",
      "Epoch 35, CIFAR-10 Batch 3:  Loss:     0.4882 Validation Accuracy: 0.593000\n",
      "Epoch 35, CIFAR-10 Batch 4:  Loss:     0.5905 Validation Accuracy: 0.630000\n",
      "Epoch 35, CIFAR-10 Batch 5:  Loss:     0.4381 Validation Accuracy: 0.633000\n",
      "Epoch 36, CIFAR-10 Batch 1:  Loss:     0.5377 Validation Accuracy: 0.619200\n",
      "Epoch 36, CIFAR-10 Batch 2:  Loss:     0.4501 Validation Accuracy: 0.620000\n",
      "Epoch 36, CIFAR-10 Batch 3:  Loss:     0.4744 Validation Accuracy: 0.592400\n",
      "Epoch 36, CIFAR-10 Batch 4:  Loss:     0.5750 Validation Accuracy: 0.638600\n",
      "Epoch 36, CIFAR-10 Batch 5:  Loss:     0.4187 Validation Accuracy: 0.632200\n",
      "Epoch 37, CIFAR-10 Batch 1:  Loss:     0.5060 Validation Accuracy: 0.622400\n",
      "Epoch 37, CIFAR-10 Batch 2:  Loss:     0.4724 Validation Accuracy: 0.626000\n",
      "Epoch 37, CIFAR-10 Batch 3:  Loss:     0.4684 Validation Accuracy: 0.625800\n",
      "Epoch 37, CIFAR-10 Batch 4:  Loss:     0.5705 Validation Accuracy: 0.641400\n",
      "Epoch 37, CIFAR-10 Batch 5:  Loss:     0.4273 Validation Accuracy: 0.630800\n",
      "Epoch 38, CIFAR-10 Batch 1:  Loss:     0.4918 Validation Accuracy: 0.630000\n",
      "Epoch 38, CIFAR-10 Batch 2:  Loss:     0.4627 Validation Accuracy: 0.622000\n",
      "Epoch 38, CIFAR-10 Batch 3:  Loss:     0.4371 Validation Accuracy: 0.610200\n",
      "Epoch 38, CIFAR-10 Batch 4:  Loss:     0.5740 Validation Accuracy: 0.640200\n",
      "Epoch 38, CIFAR-10 Batch 5:  Loss:     0.4064 Validation Accuracy: 0.629600\n",
      "Epoch 39, CIFAR-10 Batch 1:  Loss:     0.4546 Validation Accuracy: 0.627200\n",
      "Epoch 39, CIFAR-10 Batch 2:  Loss:     0.4499 Validation Accuracy: 0.624400\n",
      "Epoch 39, CIFAR-10 Batch 3:  Loss:     0.4277 Validation Accuracy: 0.612800\n",
      "Epoch 39, CIFAR-10 Batch 4:  Loss:     0.5515 Validation Accuracy: 0.641600\n",
      "Epoch 39, CIFAR-10 Batch 5:  Loss:     0.4036 Validation Accuracy: 0.630600\n",
      "Epoch 40, CIFAR-10 Batch 1:  Loss:     0.4593 Validation Accuracy: 0.639200\n",
      "Epoch 40, CIFAR-10 Batch 2:  Loss:     0.4579 Validation Accuracy: 0.630000\n",
      "Epoch 40, CIFAR-10 Batch 3:  Loss:     0.4136 Validation Accuracy: 0.633400\n",
      "Epoch 40, CIFAR-10 Batch 4:  Loss:     0.5650 Validation Accuracy: 0.638800\n",
      "Epoch 40, CIFAR-10 Batch 5:  Loss:     0.3884 Validation Accuracy: 0.635000\n",
      "Epoch 41, CIFAR-10 Batch 1:  Loss:     0.4616 Validation Accuracy: 0.639000\n",
      "Epoch 41, CIFAR-10 Batch 2:  Loss:     0.4453 Validation Accuracy: 0.624000\n",
      "Epoch 41, CIFAR-10 Batch 3:  Loss:     0.4273 Validation Accuracy: 0.624400\n",
      "Epoch 41, CIFAR-10 Batch 4:  Loss:     0.5299 Validation Accuracy: 0.640400\n",
      "Epoch 41, CIFAR-10 Batch 5:  Loss:     0.3615 Validation Accuracy: 0.629200\n",
      "Epoch 42, CIFAR-10 Batch 1:  Loss:     0.4737 Validation Accuracy: 0.632800\n",
      "Epoch 42, CIFAR-10 Batch 2:  Loss:     0.4299 Validation Accuracy: 0.635600\n",
      "Epoch 42, CIFAR-10 Batch 3:  Loss:     0.4067 Validation Accuracy: 0.619400\n",
      "Epoch 42, CIFAR-10 Batch 4:  Loss:     0.5047 Validation Accuracy: 0.643200\n",
      "Epoch 42, CIFAR-10 Batch 5:  Loss:     0.3809 Validation Accuracy: 0.631400\n",
      "Epoch 43, CIFAR-10 Batch 1:  Loss:     0.4631 Validation Accuracy: 0.638400\n",
      "Epoch 43, CIFAR-10 Batch 2:  Loss:     0.4548 Validation Accuracy: 0.628000\n",
      "Epoch 43, CIFAR-10 Batch 3:  Loss:     0.4229 Validation Accuracy: 0.628200\n",
      "Epoch 43, CIFAR-10 Batch 4:  Loss:     0.5341 Validation Accuracy: 0.647200\n",
      "Epoch 43, CIFAR-10 Batch 5:  Loss:     0.3883 Validation Accuracy: 0.642000\n",
      "Epoch 44, CIFAR-10 Batch 1:  Loss:     0.4443 Validation Accuracy: 0.630800\n",
      "Epoch 44, CIFAR-10 Batch 2:  Loss:     0.4297 Validation Accuracy: 0.633200\n",
      "Epoch 44, CIFAR-10 Batch 3:  Loss:     0.3875 Validation Accuracy: 0.631200\n",
      "Epoch 44, CIFAR-10 Batch 4:  Loss:     0.5333 Validation Accuracy: 0.647800\n",
      "Epoch 44, CIFAR-10 Batch 5:  Loss:     0.3729 Validation Accuracy: 0.640600\n",
      "Epoch 45, CIFAR-10 Batch 1:  Loss:     0.4370 Validation Accuracy: 0.636400\n",
      "Epoch 45, CIFAR-10 Batch 2:  Loss:     0.4262 Validation Accuracy: 0.627600\n",
      "Epoch 45, CIFAR-10 Batch 3:  Loss:     0.3929 Validation Accuracy: 0.635600\n",
      "Epoch 45, CIFAR-10 Batch 4:  Loss:     0.5170 Validation Accuracy: 0.639800\n",
      "Epoch 45, CIFAR-10 Batch 5:  Loss:     0.3461 Validation Accuracy: 0.643800\n",
      "Epoch 46, CIFAR-10 Batch 1:  Loss:     0.3899 Validation Accuracy: 0.644800\n",
      "Epoch 46, CIFAR-10 Batch 2:  Loss:     0.4007 Validation Accuracy: 0.625400\n",
      "Epoch 46, CIFAR-10 Batch 3:  Loss:     0.3822 Validation Accuracy: 0.648200\n",
      "Epoch 46, CIFAR-10 Batch 4:  Loss:     0.5182 Validation Accuracy: 0.639800\n",
      "Epoch 46, CIFAR-10 Batch 5:  Loss:     0.3674 Validation Accuracy: 0.634400\n",
      "Epoch 47, CIFAR-10 Batch 1:  Loss:     0.4157 Validation Accuracy: 0.643800\n",
      "Epoch 47, CIFAR-10 Batch 2:  Loss:     0.3921 Validation Accuracy: 0.631600\n",
      "Epoch 47, CIFAR-10 Batch 3:  Loss:     0.3940 Validation Accuracy: 0.643400\n",
      "Epoch 47, CIFAR-10 Batch 4:  Loss:     0.5121 Validation Accuracy: 0.643600\n",
      "Epoch 47, CIFAR-10 Batch 5:  Loss:     0.3471 Validation Accuracy: 0.637600\n",
      "Epoch 48, CIFAR-10 Batch 1:  Loss:     0.3974 Validation Accuracy: 0.653000\n",
      "Epoch 48, CIFAR-10 Batch 2:  Loss:     0.3872 Validation Accuracy: 0.629400\n",
      "Epoch 48, CIFAR-10 Batch 3:  Loss:     0.3865 Validation Accuracy: 0.642000\n",
      "Epoch 48, CIFAR-10 Batch 4:  Loss:     0.5052 Validation Accuracy: 0.635200\n",
      "Epoch 48, CIFAR-10 Batch 5:  Loss:     0.3114 Validation Accuracy: 0.654200\n",
      "Epoch 49, CIFAR-10 Batch 1:  Loss:     0.3977 Validation Accuracy: 0.647400\n",
      "Epoch 49, CIFAR-10 Batch 2:  Loss:     0.3829 Validation Accuracy: 0.619600\n",
      "Epoch 49, CIFAR-10 Batch 3:  Loss:     0.4162 Validation Accuracy: 0.628200\n",
      "Epoch 49, CIFAR-10 Batch 4:  Loss:     0.4998 Validation Accuracy: 0.640000\n",
      "Epoch 49, CIFAR-10 Batch 5:  Loss:     0.3323 Validation Accuracy: 0.648600\n",
      "Epoch 50, CIFAR-10 Batch 1:  Loss:     0.3909 Validation Accuracy: 0.644400\n",
      "Epoch 50, CIFAR-10 Batch 2:  Loss:     0.4122 Validation Accuracy: 0.625600\n",
      "Epoch 50, CIFAR-10 Batch 3:  Loss:     0.3760 Validation Accuracy: 0.645000\n",
      "Epoch 50, CIFAR-10 Batch 4:  Loss:     0.4929 Validation Accuracy: 0.631400\n",
      "Epoch 50, CIFAR-10 Batch 5:  Loss:     0.3072 Validation Accuracy: 0.647800\n",
      "Epoch 51, CIFAR-10 Batch 1:  Loss:     0.3929 Validation Accuracy: 0.643400\n",
      "Epoch 51, CIFAR-10 Batch 2:  Loss:     0.3911 Validation Accuracy: 0.612800\n",
      "Epoch 51, CIFAR-10 Batch 3:  Loss:     0.3634 Validation Accuracy: 0.647400\n",
      "Epoch 51, CIFAR-10 Batch 4:  Loss:     0.4793 Validation Accuracy: 0.631400\n",
      "Epoch 51, CIFAR-10 Batch 5:  Loss:     0.2957 Validation Accuracy: 0.649200\n",
      "Epoch 52, CIFAR-10 Batch 1:  Loss:     0.3635 Validation Accuracy: 0.637600\n",
      "Epoch 52, CIFAR-10 Batch 2:  Loss:     0.3859 Validation Accuracy: 0.620400\n",
      "Epoch 52, CIFAR-10 Batch 3:  Loss:     0.3502 Validation Accuracy: 0.650200\n",
      "Epoch 52, CIFAR-10 Batch 4:  Loss:     0.4757 Validation Accuracy: 0.622800\n",
      "Epoch 52, CIFAR-10 Batch 5:  Loss:     0.3023 Validation Accuracy: 0.643200\n",
      "Epoch 53, CIFAR-10 Batch 1:  Loss:     0.3600 Validation Accuracy: 0.626600\n",
      "Epoch 53, CIFAR-10 Batch 2:  Loss:     0.3904 Validation Accuracy: 0.622400\n",
      "Epoch 53, CIFAR-10 Batch 3:  Loss:     0.3625 Validation Accuracy: 0.639400\n",
      "Epoch 53, CIFAR-10 Batch 4:  Loss:     0.4571 Validation Accuracy: 0.630000\n",
      "Epoch 53, CIFAR-10 Batch 5:  Loss:     0.2785 Validation Accuracy: 0.639200\n",
      "Epoch 54, CIFAR-10 Batch 1:  Loss:     0.3512 Validation Accuracy: 0.633600\n",
      "Epoch 54, CIFAR-10 Batch 2:  Loss:     0.3988 Validation Accuracy: 0.615400\n",
      "Epoch 54, CIFAR-10 Batch 3:  Loss:     0.3534 Validation Accuracy: 0.644000\n",
      "Epoch 54, CIFAR-10 Batch 4:  Loss:     0.4402 Validation Accuracy: 0.633000\n",
      "Epoch 54, CIFAR-10 Batch 5:  Loss:     0.3107 Validation Accuracy: 0.639600\n",
      "Epoch 55, CIFAR-10 Batch 1:  Loss:     0.3400 Validation Accuracy: 0.640800\n",
      "Epoch 55, CIFAR-10 Batch 2:  Loss:     0.3889 Validation Accuracy: 0.628600\n",
      "Epoch 55, CIFAR-10 Batch 3:  Loss:     0.3507 Validation Accuracy: 0.631800\n",
      "Epoch 55, CIFAR-10 Batch 4:  Loss:     0.4502 Validation Accuracy: 0.632800\n",
      "Epoch 55, CIFAR-10 Batch 5:  Loss:     0.2827 Validation Accuracy: 0.636600\n",
      "Epoch 56, CIFAR-10 Batch 1:  Loss:     0.3431 Validation Accuracy: 0.633800\n",
      "Epoch 56, CIFAR-10 Batch 2:  Loss:     0.3608 Validation Accuracy: 0.633600\n",
      "Epoch 56, CIFAR-10 Batch 3:  Loss:     0.3355 Validation Accuracy: 0.650800\n",
      "Epoch 56, CIFAR-10 Batch 4:  Loss:     0.4542 Validation Accuracy: 0.637000\n",
      "Epoch 56, CIFAR-10 Batch 5:  Loss:     0.2668 Validation Accuracy: 0.640600\n",
      "Epoch 57, CIFAR-10 Batch 1:  Loss:     0.3457 Validation Accuracy: 0.635000\n",
      "Epoch 57, CIFAR-10 Batch 2:  Loss:     0.3943 Validation Accuracy: 0.629200\n",
      "Epoch 57, CIFAR-10 Batch 3:  Loss:     0.3192 Validation Accuracy: 0.649400\n",
      "Epoch 57, CIFAR-10 Batch 4:  Loss:     0.4489 Validation Accuracy: 0.621000\n",
      "Epoch 57, CIFAR-10 Batch 5:  Loss:     0.2683 Validation Accuracy: 0.637200\n",
      "Epoch 58, CIFAR-10 Batch 1:  Loss:     0.3349 Validation Accuracy: 0.631000\n",
      "Epoch 58, CIFAR-10 Batch 2:  Loss:     0.3514 Validation Accuracy: 0.630200\n",
      "Epoch 58, CIFAR-10 Batch 3:  Loss:     0.3395 Validation Accuracy: 0.640200\n",
      "Epoch 58, CIFAR-10 Batch 4:  Loss:     0.4424 Validation Accuracy: 0.630600\n",
      "Epoch 58, CIFAR-10 Batch 5:  Loss:     0.2799 Validation Accuracy: 0.641400\n",
      "Epoch 59, CIFAR-10 Batch 1:  Loss:     0.3437 Validation Accuracy: 0.625200\n",
      "Epoch 59, CIFAR-10 Batch 2:  Loss:     0.3949 Validation Accuracy: 0.619000\n",
      "Epoch 59, CIFAR-10 Batch 3:  Loss:     0.3488 Validation Accuracy: 0.634600\n",
      "Epoch 59, CIFAR-10 Batch 4:  Loss:     0.4814 Validation Accuracy: 0.630000\n",
      "Epoch 59, CIFAR-10 Batch 5:  Loss:     0.2744 Validation Accuracy: 0.638200\n",
      "Epoch 60, CIFAR-10 Batch 1:  Loss:     0.3437 Validation Accuracy: 0.628600\n",
      "Epoch 60, CIFAR-10 Batch 2:  Loss:     0.3784 Validation Accuracy: 0.621200\n",
      "Epoch 60, CIFAR-10 Batch 3:  Loss:     0.3282 Validation Accuracy: 0.652200\n",
      "Epoch 60, CIFAR-10 Batch 4:  Loss:     0.4476 Validation Accuracy: 0.624600\n",
      "Epoch 60, CIFAR-10 Batch 5:  Loss:     0.2806 Validation Accuracy: 0.636400\n"
     ]
    }
   ],
   "source": [
    "\"\"\"\n",
    "DON'T MODIFY ANYTHING IN THIS CELL\n",
    "\"\"\"\n",
    "save_model_path = './image_classification'\n",
    "\n",
    "print('Training...')\n",
    "with tf.Session() as sess:\n",
    "    # Initializing the variables\n",
    "    sess.run(tf.global_variables_initializer())\n",
    "    \n",
    "    # Training cycle\n",
    "    for epoch in range(epochs):\n",
    "        # Loop over all batches\n",
    "        n_batches = 5\n",
    "        for batch_i in range(1, n_batches + 1):\n",
    "            for batch_features, batch_labels in helper.load_preprocess_training_batch(batch_i, batch_size):\n",
    "                train_neural_network(sess, optimizer, keep_probability, batch_features, batch_labels)\n",
    "            print('Epoch {:>2}, CIFAR-10 Batch {}:  '.format(epoch + 1, batch_i), end='')\n",
    "            print_stats(sess, batch_features, batch_labels, cost, accuracy)\n",
    "            \n",
    "    # Save Model\n",
    "    saver = tf.train.Saver()\n",
    "    save_path = saver.save(sess, save_model_path)"
   ]
  },
  {
   "cell_type": "markdown",
   "metadata": {
    "deletable": true,
    "editable": true
   },
   "source": [
    "# Checkpoint\n",
    "The model has been saved to disk.\n",
    "## Test Model\n",
    "Test your model against the test dataset.  This will be your final accuracy. You should have an accuracy greater than 50%. If you don't, keep tweaking the model architecture and parameters."
   ]
  },
  {
   "cell_type": "code",
   "execution_count": 124,
   "metadata": {
    "collapsed": false,
    "deletable": true,
    "editable": true
   },
   "outputs": [
    {
     "name": "stdout",
     "output_type": "stream",
     "text": [
      "Testing Accuracy: 0.636328125\n",
      "\n"
     ]
    },
    {
     "data": {
      "image/png": "[encoded data removed]",
      "text/plain": [
       "<matplotlib.figure.Figure at 0x27e5c5097b8>"
      ]
     },
     "metadata": {
      "image/png": {
       "height": 319,
       "width": 355
      }
     },
     "output_type": "display_data"
    }
   ],
   "source": [
    "\"\"\"\n",
    "DON'T MODIFY ANYTHING IN THIS CELL\n",
    "\"\"\"\n",
    "%matplotlib inline\n",
    "%config InlineBackend.figure_format = 'retina'\n",
    "\n",
    "import tensorflow as tf\n",
    "import pickle\n",
    "import helper\n",
    "import random\n",
    "\n",
    "# Set batch size if not already set\n",
    "try:\n",
    "    if batch_size:\n",
    "        pass\n",
    "except NameError:\n",
    "    batch_size = 64\n",
    "\n",
    "save_model_path = './image_classification'\n",
    "n_samples = 4\n",
    "top_n_predictions = 3\n",
    "\n",
    "def test_model():\n",
    "    \"\"\"\n",
    "    Test the saved model against the test dataset\n",
    "    \"\"\"\n",
    "\n",
    "    test_features, test_labels = pickle.load(open('preprocess_test.p', mode='rb'))\n",
    "    loaded_graph = tf.Graph()\n",
    "\n",
    "    with tf.Session(graph=loaded_graph) as sess:\n",
    "        # Load model\n",
    "        loader = tf.train.import_meta_graph(save_model_path + '.meta')\n",
    "        loader.restore(sess, save_model_path)\n",
    "\n",
    "        # Get Tensors from loaded model\n",
    "        loaded_x = loaded_graph.get_tensor_by_name('x:0')\n",
    "        loaded_y = loaded_graph.get_tensor_by_name('y:0')\n",
    "        loaded_keep_prob = loaded_graph.get_tensor_by_name('keep_prob:0')\n",
    "        loaded_logits = loaded_graph.get_tensor_by_name('logits:0')\n",
    "        loaded_acc = loaded_graph.get_tensor_by_name('accuracy:0')\n",
    "        \n",
    "        # Get accuracy in batches for memory limitations\n",
    "        test_batch_acc_total = 0\n",
    "        test_batch_count = 0\n",
    "        \n",
    "        for test_feature_batch, test_label_batch in helper.batch_features_labels(test_features, test_labels, batch_size):\n",
    "            test_batch_acc_total += sess.run(\n",
    "                loaded_acc,\n",
    "                feed_dict={loaded_x: test_feature_batch, loaded_y: test_label_batch, loaded_keep_prob: 1.0})\n",
    "            test_batch_count += 1\n",
    "\n",
    "        print('Testing Accuracy: {}\\n'.format(test_batch_acc_total/test_batch_count))\n",
    "\n",
    "        # Print Random Samples\n",
    "        random_test_features, random_test_labels = tuple(zip(*random.sample(list(zip(test_features, test_labels)), n_samples)))\n",
    "        random_test_predictions = sess.run(\n",
    "            tf.nn.top_k(tf.nn.softmax(loaded_logits), top_n_predictions),\n",
    "            feed_dict={loaded_x: random_test_features, loaded_y: random_test_labels, loaded_keep_prob: 1.0})\n",
    "        helper.display_image_predictions(random_test_features, random_test_labels, random_test_predictions)\n",
    "\n",
    "\n",
    "test_model()"
   ]
  },
  {
   "cell_type": "markdown",
   "metadata": {
    "deletable": true,
    "editable": true
   },
   "source": [
    "## Why 50-80% Accuracy?\n",
    "You might be wondering why you can't get an accuracy any higher. First things first, 50% isn't bad for a simple CNN.  Pure guessing would get you 10% accuracy. However, you might notice people are getting scores [well above 80%](http://rodrigob.github.io/are_we_there_yet/build/classification_datasets_results.html#43494641522d3130).  That's because we haven't taught you all there is to know about neural networks. We still need to cover a few more techniques.\n",
    "## Submitting This Project\n",
    "When submitting this project, make sure to run all the cells before saving the notebook.  Save the notebook file as \"dlnd_image_classification.ipynb\" and save it as a HTML file under \"File\" -> \"Download as\".  Include the \"helper.py\" and \"problem_unittests.py\" files in your submission."
   ]
  }
 ],
 "metadata": {
  "kernelspec": {
   "display_name": "Python 3",
   "language": "python",
   "name": "python3"
  },
  "language_info": {
   "codemirror_mode": {
    "name": "ipython",
    "version": 3
   },
   "file_extension": ".py",
   "mimetype": "text/x-python",
   "name": "python",
   "nbconvert_exporter": "python",
   "pygments_lexer": "ipython3",
   "version": "3.5.0"
  }
 },
 "nbformat": 4,
 "nbformat_minor": 0
}
